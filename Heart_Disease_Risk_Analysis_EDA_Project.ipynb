{
  "nbformat": 4,
  "nbformat_minor": 0,
  "metadata": {
    "colab": {
      "provenance": [],
      "include_colab_link": true
    },
    "kernelspec": {
      "name": "python3",
      "display_name": "Python 3"
    },
    "language_info": {
      "name": "python"
    }
  },
  "cells": [
    {
      "cell_type": "markdown",
      "metadata": {
        "id": "view-in-github",
        "colab_type": "text"
      },
      "source": [
        "<a href=\"https://colab.research.google.com/github/thvarsha00/Heart-Disease-Risk-Analysis-/blob/main/Heart_Disease_Risk_Analysis_EDA_Project.ipynb\" target=\"_parent\"><img src=\"https://colab.research.google.com/assets/colab-badge.svg\" alt=\"Open In Colab\"/></a>"
      ]
    },
    {
      "cell_type": "markdown",
      "source": [
        "# **Heart Disease Risk Analysis (EDA Project)**\n",
        "\n",
        "This project explores the **UCI Heart Disease dataset** to uncover risk factors linked to heart disease.  \n",
        "Using **EDA techniques** (univariate, bivariate, multivariate analysis, feature engineering, and statistical testing), we identify key predictors such as **max heart rate, ST depression, chest pain type, and exercise-induced angina**.  \n",
        "The analysis confirms that **heart disease is multi-factorial** and provides a strong foundation for future **predictive modeling**.  \n"
      ],
      "metadata": {
        "id": "QD7eRNDNYyY8"
      }
    },
    {
      "cell_type": "markdown",
      "source": [
        "# **Problem Statement**\n",
        "\n",
        "The objective of this project is to **analyze risk factors for heart disease** and explore how different patient attributes are related to disease outcomes.  \n",
        "We perform a **comprehensive Exploratory Data Analysis (EDA)** on the UCI Heart Disease dataset, including:  \n",
        "\n",
        "- **Univariate, Bivariate, and Multivariate Analysis**  \n",
        "- **Feature Engineering (age groups, cholesterol levels, blood pressure categories)**  \n",
        "- **Statistical Testing (Chi-Square & T-test)**  \n",
        "\n",
        "The aim is to identify the most significant variables contributing to the likelihood of developing heart disease and provide insights that can guide predictive modeling.\n",
        "\n",
        "\n",
        "\n",
        "# **Dataset**\n",
        "\n",
        "- **Name:** UCI Heart Disease Dataset  \n",
        "- **Source:** UCI Machine Learning Repository  \n",
        "- **Description:**  \n",
        "  The dataset contains patient records with both **demographic attributes** (age, sex) and **clinical attributes** (blood pressure, cholesterol, chest pain type, max heart rate, ST depression, etc.).  \n",
        "\n",
        "- **Target variable:** target → Presence 1 or absence 0 of heart disease  \n",
        "\n"
      ],
      "metadata": {
        "id": "3t07asOTZKZq"
      }
    },
    {
      "cell_type": "markdown",
      "source": [
        "#  Import required libraries"
      ],
      "metadata": {
        "id": "5NV46dX-Z9jx"
      }
    },
    {
      "cell_type": "code",
      "execution_count": null,
      "metadata": {
        "id": "Y4L80VFAYPl-"
      },
      "outputs": [],
      "source": [
        "\n",
        "import pandas as pd\n",
        "import plotly.express as px\n",
        "import numpy as np\n",
        "import plotly.graph_objects as go\n",
        "from plotly.subplots import make_subplots\n",
        "import seaborn as sns\n",
        "import matplotlib.pyplot as plt\n",
        "from scipy.stats import ttest_ind\n",
        "\n",
        "from scipy.stats import chi2_contingency\n",
        "\n"
      ]
    },
    {
      "cell_type": "markdown",
      "source": [
        "# Load dataset directly from UCI Repository"
      ],
      "metadata": {
        "id": "0rrY_W83aFYv"
      }
    },
    {
      "cell_type": "code",
      "source": [
        "url = \"https://raw.githubusercontent.com/xjcjiacheng/data-analysis/master/heart%20disease%20UCI/heart.csv\"\n",
        "df = pd.read_csv(url)"
      ],
      "metadata": {
        "id": "sBovCEcWaEh5"
      },
      "execution_count": null,
      "outputs": []
    },
    {
      "cell_type": "markdown",
      "source": [
        "## **1.Initial Data Exploration (Inspection & Summary Statistics)**\n",
        "# Preview dataset\n"
      ],
      "metadata": {
        "id": "XpluE_uaaEOX"
      }
    },
    {
      "cell_type": "code",
      "source": [
        "#\n",
        "print(\"Dataset Shape:\", df.shape)\n",
        "\n"
      ],
      "metadata": {
        "id": "zLerBTSXaD3x"
      },
      "execution_count": null,
      "outputs": []
    },
    {
      "cell_type": "markdown",
      "source": [
        "# Column info (data types, non-null counts)"
      ],
      "metadata": {
        "id": "Uk-ZyOdNbH0W"
      }
    },
    {
      "cell_type": "code",
      "source": [
        "\n",
        "\n",
        "print(\"\\nDataset Info:\")\n",
        "print(df.info())\n",
        "\n",
        "\n",
        "\n",
        "\n"
      ],
      "metadata": {
        "id": "Fq889vmfbHjj"
      },
      "execution_count": null,
      "outputs": []
    },
    {
      "cell_type": "markdown",
      "source": [
        "# Statistical summary of numerical features"
      ],
      "metadata": {
        "id": "5iy4kB7LbHNn"
      }
    },
    {
      "cell_type": "code",
      "source": [
        "\n",
        "print(\"\\nStatistical Summary:\")\n",
        "print(df.describe().T)"
      ],
      "metadata": {
        "id": "QoyivoW7bG8T"
      },
      "execution_count": null,
      "outputs": []
    },
    {
      "cell_type": "markdown",
      "source": [
        "# Check for missing values"
      ],
      "metadata": {
        "id": "i_x1rJPcbQ9o"
      }
    },
    {
      "cell_type": "code",
      "source": [
        "print(\"\\nMissing Values:\")\n",
        "print(df.isnull().sum())"
      ],
      "metadata": {
        "id": "C9vkeDgXbQnp"
      },
      "execution_count": null,
      "outputs": []
    },
    {
      "cell_type": "markdown",
      "source": [
        "# **2.Target Variable Analysis**\n",
        "\n",
        "##  Step 1: Target Variable Analysis\n",
        "\n",
        "The **target variable (`target`)** represents whether a patient has heart disease:  \n",
        "- `0` → No Heart Disease  \n",
        "- `1` → Heart Disease Present  \n",
        "\n",
        "### What i did:\n",
        "1. Checked the **counts** of each class.  \n",
        "2. Calculated the **percentage distribution**.  \n",
        "3. Visualized the results using **bar chart** and **pie chart**.  \n",
        "\n",
        "###  Insights:\n",
        "- This step helps us understand if the dataset is **balanced or imbalanced**.  \n",
        "- A balanced dataset means both classes (0 & 1) have similar counts, making ML modeling easier.  \n",
        "- If highly imbalanced, we would need special techniques (resampling/weights).  \n"
      ],
      "metadata": {
        "id": "sfhuJEvPljLj"
      }
    },
    {
      "cell_type": "markdown",
      "source": [
        "# Count values of target variable"
      ],
      "metadata": {
        "id": "WquOun38pOEz"
      }
    },
    {
      "cell_type": "code",
      "source": [
        "target_counts = df[\"target\"].value_counts()\n",
        "\n",
        "print(\"Target Value Counts:\")\n",
        "print(target_counts)"
      ],
      "metadata": {
        "id": "NYIPYe8OpNm9"
      },
      "execution_count": null,
      "outputs": []
    },
    {
      "cell_type": "markdown",
      "source": [
        "# Percentage distribution"
      ],
      "metadata": {
        "id": "byBc7hmdpNZ3"
      }
    },
    {
      "cell_type": "code",
      "source": [
        "print(\"\\nPercentage Distribution:\")\n",
        "print(target_counts / len(df) * 100)"
      ],
      "metadata": {
        "id": "GD3QOig7pNLD"
      },
      "execution_count": null,
      "outputs": []
    },
    {
      "cell_type": "markdown",
      "source": [
        "# Plot as Bar Chart"
      ],
      "metadata": {
        "id": "u2R73h76pM8_"
      }
    },
    {
      "cell_type": "code",
      "source": [
        "plt.figure(figsize=(6,5))\n",
        "sns.barplot(x=target_counts.index, y=target_counts.values, palette=[\"blue\",\"red\"])\n",
        "plt.title(\"Heart Disease Distribution (0 = No, 1 = Yes)\", fontsize=14)\n",
        "plt.xlabel(\"Heart Disease (Target)\")\n",
        "plt.ylabel(\"Count\")\n",
        "plt.show()"
      ],
      "metadata": {
        "id": "tEkWuoP_pMuk"
      },
      "execution_count": null,
      "outputs": []
    },
    {
      "cell_type": "markdown",
      "source": [
        "# Plot as Pie Chart"
      ],
      "metadata": {
        "id": "qSaoAALspMhA"
      }
    },
    {
      "cell_type": "code",
      "source": [
        "plt.figure(figsize=(6,6))\n",
        "plt.pie(target_counts, labels=[\"No Heart Disease (0)\", \"Heart Disease (1)\"],\n",
        "        autopct=\"%1.1f%%\", colors=[\"skyblue\",\"salmon\"], startangle=90)\n",
        "plt.title(\"Heart Disease Distribution (Pie Chart)\", fontsize=14)\n",
        "plt.show()"
      ],
      "metadata": {
        "id": "dw4R4XuDpMRw"
      },
      "execution_count": null,
      "outputs": []
    },
    {
      "cell_type": "markdown",
      "source": [
        "# **3.Univariate Analysis**"
      ],
      "metadata": {
        "id": "BMwSiTEqaDnG"
      }
    },
    {
      "cell_type": "markdown",
      "source": [
        "# histogram for Age"
      ],
      "metadata": {
        "id": "FDSsXjmRcwsn"
      }
    },
    {
      "cell_type": "code",
      "source": [
        "\n",
        "fig = px.histogram(df, x=\"age\", nbins=20, title=\"Age Distribution\",\n",
        "                   color_discrete_sequence=[\"#636EFA\"])\n",
        "fig.show()"
      ],
      "metadata": {
        "id": "QfX_4KeicfuD"
      },
      "execution_count": null,
      "outputs": []
    },
    {
      "cell_type": "markdown",
      "source": [
        "#  histogram for Cholesterol"
      ],
      "metadata": {
        "id": "43mAtlgUc3oY"
      }
    },
    {
      "cell_type": "code",
      "source": [
        "fig = px.histogram(df, x=\"chol\", nbins=30, title=\"Cholesterol Distribution\",\n",
        "                   color_discrete_sequence=[\"#EF553B\"])\n",
        "fig.show()"
      ],
      "metadata": {
        "id": "-tAsM19ocgS-"
      },
      "execution_count": null,
      "outputs": []
    },
    {
      "cell_type": "markdown",
      "source": [
        "# boxplot for Cholesterol (to detect outliers)"
      ],
      "metadata": {
        "id": "2EH6E8WEc4gq"
      }
    },
    {
      "cell_type": "code",
      "source": [
        "fig = px.box(df, y=\"chol\", title=\"Cholesterol Outliers\",\n",
        "             color_discrete_sequence=[\"#00CC96\"])\n",
        "fig.show()\n"
      ],
      "metadata": {
        "id": "CrJNGxxndQzE"
      },
      "execution_count": null,
      "outputs": []
    },
    {
      "cell_type": "markdown",
      "source": [
        "#  boxplot for Resting Blood Pressure"
      ],
      "metadata": {
        "id": "JiB5EpQCc6Ns"
      }
    },
    {
      "cell_type": "code",
      "source": [
        "plt.figure(figsize=(6,5))\n",
        "sns.boxplot(y=df[\"trestbps\"], color=\"skyblue\")\n",
        "plt.title(\"Boxplot of Resting Blood Pressure\", fontsize=14)\n",
        "plt.ylabel(\"Resting Blood Pressure (mmHg)\")\n",
        "plt.show()"
      ],
      "metadata": {
        "id": "VPc2iCU60CO8"
      },
      "execution_count": null,
      "outputs": []
    },
    {
      "cell_type": "markdown",
      "source": [
        "## **4.Bivariate Analysis (Feature vs Target)**"
      ],
      "metadata": {
        "id": "JB1RvLgS3SVC"
      }
    },
    {
      "cell_type": "markdown",
      "source": [
        "# Cholesterol vs Heart Disease"
      ],
      "metadata": {
        "id": "TqyOPTmO4OBu"
      }
    },
    {
      "cell_type": "code",
      "source": [
        "plt.figure(figsize=(6,5))\n",
        "sns.boxplot(x=\"target\", y=\"chol\", data=df, palette=[\"blue\",\"red\"])\n",
        "plt.title(\"Cholesterol vs Heart Disease\", fontsize=14)\n",
        "plt.xlabel(\"Heart Disease (0=No, 1=Yes)\")\n",
        "plt.ylabel(\"Cholesterol (mg/dl)\")\n",
        "plt.show()\n"
      ],
      "metadata": {
        "id": "w1LkJN_M3SIP"
      },
      "execution_count": null,
      "outputs": []
    },
    {
      "cell_type": "markdown",
      "source": [
        "Insight: Heart disease patients often show higher cholesterol medians, though overlaps exist."
      ],
      "metadata": {
        "id": "3fUcjW9Z4X2H"
      }
    },
    {
      "cell_type": "markdown",
      "source": [
        "# Max Heart Rate vs Heart Disease"
      ],
      "metadata": {
        "id": "O_ZRfiPs3R60"
      }
    },
    {
      "cell_type": "code",
      "source": [
        "plt.figure(figsize=(6,5))\n",
        "sns.boxplot(x=\"target\", y=\"thalach\", data=df, palette=[\"blue\",\"red\"])\n",
        "plt.title(\"Max Heart Rate vs Heart Disease\", fontsize=14)\n",
        "plt.xlabel(\"Heart Disease (0=No, 1=Yes)\")\n",
        "plt.ylabel(\"Max Heart Rate Achieved\")\n",
        "plt.show()"
      ],
      "metadata": {
        "id": "bMIgWS5D3RtC"
      },
      "execution_count": null,
      "outputs": []
    },
    {
      "cell_type": "markdown",
      "source": [
        "Insight: Patients with heart disease (target=1) tend to have lower max HR."
      ],
      "metadata": {
        "id": "Nn-DvOno3Rft"
      }
    },
    {
      "cell_type": "markdown",
      "source": [
        "# Chest Pain Type vs Heart Disease (Categorical vs Target)"
      ],
      "metadata": {
        "id": "bYa01eXh4g9R"
      }
    },
    {
      "cell_type": "code",
      "source": [
        "plt.figure(figsize=(6,5))\n",
        "sns.countplot(x=\"cp\", hue=\"target\", data=df, palette=[\"blue\",\"red\"])\n",
        "plt.title(\"Chest Pain Type vs Heart Disease\", fontsize=14)\n",
        "plt.xlabel(\"Chest Pain Type (0=Typical, 1=Atypical, 2=Non-anginal, 3=Asymptomatic)\")\n",
        "plt.ylabel(\"Count\")\n",
        "plt.show()\n"
      ],
      "metadata": {
        "id": "M5Vx1kl_3RHO"
      },
      "execution_count": null,
      "outputs": []
    },
    {
      "cell_type": "markdown",
      "source": [
        "Insight: Asymptomatic chest pain (cp=3) strongly correlates with heart disease."
      ],
      "metadata": {
        "id": "xzSSdxZK3Q7T"
      }
    },
    {
      "cell_type": "markdown",
      "source": [
        "# violin plot"
      ],
      "metadata": {
        "id": "jns6QKJibwck"
      }
    },
    {
      "cell_type": "code",
      "source": [
        "plt.figure(figsize=(7,5))\n",
        "sns.violinplot(x=\"target\", y=\"thalach\", data=df, inner=None, palette=[\"blue\",\"red\"])\n",
        "sns.stripplot(x=\"target\", y=\"thalach\", data=df, color=\"black\", size=2, jitter=True)\n",
        "plt.title(\"Max Heart Rate Distribution by Target (Violin + Strip)\", fontsize=14)\n",
        "plt.show()\n"
      ],
      "metadata": {
        "id": "q14XCyqRbujK"
      },
      "execution_count": null,
      "outputs": []
    },
    {
      "cell_type": "markdown",
      "source": [
        "# Swarm Plot"
      ],
      "metadata": {
        "id": "rCpvOMAgccBm"
      }
    },
    {
      "cell_type": "code",
      "source": [
        "plt.figure(figsize=(7,5))\n",
        "sns.swarmplot(x=\"target\", y=\"trestbps\", data=df, palette=[\"blue\",\"red\"], size=4)\n",
        "plt.title(\"Swarm Plot: Resting BP vs Target\", fontsize=14)\n",
        "plt.show()\n"
      ],
      "metadata": {
        "id": "YPpwm5dqcdSF"
      },
      "execution_count": null,
      "outputs": []
    },
    {
      "cell_type": "markdown",
      "source": [
        "# **5.Multivariate Analysis (Feature vs Feature vs Target)**"
      ],
      "metadata": {
        "id": "raqN1DGs3QaK"
      }
    },
    {
      "cell_type": "markdown",
      "source": [
        "# Age vs Cholesterol vs Heart Disease"
      ],
      "metadata": {
        "id": "CsmWv3af4v76"
      }
    },
    {
      "cell_type": "code",
      "source": [
        "plt.figure(figsize=(7,5))\n",
        "sns.scatterplot(x=\"age\", y=\"chol\", hue=\"target\", data=df, palette={0:\"blue\",1:\"red\"})\n",
        "plt.title(\"Age vs Cholesterol by Heart Disease\", fontsize=14)\n",
        "plt.xlabel(\"Age\")\n",
        "plt.ylabel(\"Cholesterol (mg/dl)\")\n",
        "plt.show()\n"
      ],
      "metadata": {
        "id": "sCnylAX-3QLe"
      },
      "execution_count": null,
      "outputs": []
    },
    {
      "cell_type": "markdown",
      "source": [
        "Insight: Older patients with higher cholesterol cluster more in the diseased group."
      ],
      "metadata": {
        "id": "sZaOqZrZ3P9S"
      }
    },
    {
      "cell_type": "markdown",
      "source": [
        "# Resting BP vs Max Heart Rate vs Heart Disease"
      ],
      "metadata": {
        "id": "hT14WhCj50hN"
      }
    },
    {
      "cell_type": "code",
      "source": [
        "plt.figure(figsize=(7,5))\n",
        "sns.scatterplot(x=\"trestbps\", y=\"thalach\", hue=\"target\", data=df, palette={0:\"blue\",1:\"red\"})\n",
        "plt.title(\"Resting BP vs Max HR by Heart Disease\", fontsize=14)\n",
        "plt.xlabel(\"Resting Blood Pressure (mmHg)\")\n",
        "plt.ylabel(\"Max Heart Rate Achieved\")\n",
        "plt.show()\n"
      ],
      "metadata": {
        "id": "Q7apkf6z3PtP"
      },
      "execution_count": null,
      "outputs": []
    },
    {
      "cell_type": "markdown",
      "source": [
        "Insight: Diseased patients often show high BP but lower max HR, forming a clear cluster."
      ],
      "metadata": {
        "id": "H3aQsqLZ57UD"
      }
    },
    {
      "cell_type": "markdown",
      "source": [
        "# Age vs BP vs Cholesterol (Colored by Target)"
      ],
      "metadata": {
        "id": "V3wK8Ua-3Pfe"
      }
    },
    {
      "cell_type": "code",
      "source": [
        "fig = px.scatter_3d(df, x=\"age\", y=\"trestbps\", z=\"chol\", color=\"target\",\n",
        "                    title=\"3D Scatter: Age vs BP vs Cholesterol (Heart Disease)\",\n",
        "                    color_discrete_map={0:\"blue\", 1:\"red\"},\n",
        "                    hover_data=[\"thalach\",\"oldpeak\"])\n",
        "fig.show()\n"
      ],
      "metadata": {
        "id": "sWpdQEI-3PQc"
      },
      "execution_count": null,
      "outputs": []
    },
    {
      "cell_type": "markdown",
      "source": [
        "Insight: Multivariate clusters form where older age + high BP + high cholesterol overlap in the heart disease group."
      ],
      "metadata": {
        "id": "5beMF3w63PAb"
      }
    },
    {
      "cell_type": "markdown",
      "source": [
        "# Parallel Coordinates (Multi-feature comparison)"
      ],
      "metadata": {
        "id": "PXd0Y55j6I7G"
      }
    },
    {
      "cell_type": "code",
      "source": [
        "fig = px.parallel_coordinates(df,\n",
        "                              dimensions=[\"age\",\"trestbps\",\"chol\",\"thalach\",\"oldpeak\"],\n",
        "                              color=\"target\",\n",
        "                              color_continuous_scale=px.colors.diverging.Tealrose,\n",
        "                              title=\"Parallel Coordinates Plot of Features by Heart Disease\")\n",
        "fig.show()\n"
      ],
      "metadata": {
        "id": "PhPDWb0v3Omb"
      },
      "execution_count": null,
      "outputs": []
    },
    {
      "cell_type": "markdown",
      "source": [
        "# Pairplot (Scatter Matrix)"
      ],
      "metadata": {
        "id": "9HFEyJCOb6y8"
      }
    },
    {
      "cell_type": "code",
      "source": [
        "sns.pairplot(df[[\"age\",\"chol\",\"trestbps\",\"thalach\",\"oldpeak\",\"target\"]], hue=\"target\", palette={0:\"blue\",1:\"red\"})\n",
        "plt.show()\n"
      ],
      "metadata": {
        "id": "2a2Cq3fXb6Y3"
      },
      "execution_count": null,
      "outputs": []
    },
    {
      "cell_type": "markdown",
      "source": [
        "# Parallel Categories Diagram"
      ],
      "metadata": {
        "id": "qG7Z9QmtcF2B"
      }
    },
    {
      "cell_type": "code",
      "source": [
        "fig = px.parallel_categories(df, dimensions=[\"sex\",\"cp\",\"exang\",\"slope\",\"target\"],\n",
        "                             color=\"target\", color_continuous_scale=px.colors.diverging.Tealrose)\n",
        "fig.show()\n"
      ],
      "metadata": {
        "id": "BEqrvjktcJZc"
      },
      "execution_count": null,
      "outputs": []
    },
    {
      "cell_type": "markdown",
      "source": [
        "# Bubble Plot"
      ],
      "metadata": {
        "id": "bL_NDPimcRvl"
      }
    },
    {
      "cell_type": "code",
      "source": [
        "fig = px.scatter(df, x=\"age\", y=\"chol\", size=\"thalach\", color=\"target\",\n",
        "                 title=\"Bubble Plot: Age vs Cholesterol (Bubble = Max HR)\",\n",
        "                 color_discrete_map={0:\"blue\",1:\"red\"})\n",
        "fig.show()\n"
      ],
      "metadata": {
        "id": "bqcu2GEacQgr"
      },
      "execution_count": null,
      "outputs": []
    },
    {
      "cell_type": "markdown",
      "source": [
        "# **Advanced visualization**"
      ],
      "metadata": {
        "id": "R3dssqVoatVI"
      }
    },
    {
      "cell_type": "code",
      "source": [
        "import plotly.express as px\n",
        "\n",
        "# Define Age Groups & Cholesterol Levels first\n",
        "df[\"age_group\"] = pd.cut(df[\"age\"], bins=[20,40,60,80], labels=[\"20-40\",\"40-60\",\"60-80\"])\n",
        "df[\"chol_level\"] = pd.cut(df[\"chol\"], bins=[0,200,240,600],\n",
        "                          labels=[\"Normal (<200)\", \"Borderline (200-239)\", \"High (240+)\"])\n",
        "\n",
        "# Treemap\n",
        "fig = px.treemap(df, path=[\"age_group\",\"chol_level\",\"target\"],\n",
        "                 values=\"chol\", color=\"target\",\n",
        "                 color_continuous_scale=[\"blue\",\"red\"],\n",
        "                 title=\"Treemap: Age Group → Cholesterol Level → Heart Disease\")\n",
        "fig.show()\n"
      ],
      "metadata": {
        "id": "a7mryYcYad-I"
      },
      "execution_count": null,
      "outputs": []
    },
    {
      "cell_type": "markdown",
      "source": [
        "# Sunburst visualization"
      ],
      "metadata": {
        "id": "1_OEjbUoa6h3"
      }
    },
    {
      "cell_type": "code",
      "source": [
        "\n",
        "fig = px.sunburst(df, path=[\"sex\",\"cp\",\"target\"],\n",
        "                  values=\"age\", color=\"target\",\n",
        "                  color_continuous_scale=[\"blue\",\"red\"],\n",
        "                  title=\"Sunburst: Sex → Chest Pain Type → Heart Disease\")\n",
        "fig.show()\n"
      ],
      "metadata": {
        "id": "kX4AjDija1At"
      },
      "execution_count": null,
      "outputs": []
    },
    {
      "cell_type": "markdown",
      "source": [
        "###  6.Feature Engineering & Interactions\n",
        "To make insights more interpretable, we created **new categorical features** from continuous variables:\n",
        "\n",
        "\n"
      ],
      "metadata": {
        "id": "elSgqPPRvIt0"
      }
    },
    {
      "cell_type": "markdown",
      "source": [
        "#  Create Age Groups"
      ],
      "metadata": {
        "id": "5EyClCPjvfYH"
      }
    },
    {
      "cell_type": "code",
      "source": [
        "df[\"age_group\"] = pd.cut(df[\"age\"], bins=[20, 40, 60, 80], labels=[\"20-40\", \"40-60\", \"60-80\"])\n",
        "\n",
        "plt.figure(figsize=(7,5))\n",
        "sns.countplot(data=df, x=\"age_group\", hue=\"target\", palette=[\"blue\",\"red\"])\n",
        "plt.title(\"Heart Disease by Age Group\", fontsize=14)\n",
        "plt.xlabel(\"Age Group\")\n",
        "plt.ylabel(\"Count\")\n",
        "plt.show()"
      ],
      "metadata": {
        "id": "IBnU5UlbvnJp"
      },
      "execution_count": null,
      "outputs": []
    },
    {
      "cell_type": "markdown",
      "source": [
        "#  Create Cholesterol Categories"
      ],
      "metadata": {
        "id": "8woV_La1vuSC"
      }
    },
    {
      "cell_type": "code",
      "source": [
        "df[\"chol_level\"] = pd.cut(df[\"chol\"], bins=[0, 200, 240, 600], labels=[\"Normal (<200)\", \"Borderline (200-239)\", \"High (240+)\"])\n",
        "\n",
        "plt.figure(figsize=(7,5))\n",
        "sns.countplot(data=df, x=\"chol_level\", hue=\"target\", palette=[\"blue\",\"red\"])\n",
        "plt.title(\"Heart Disease by Cholesterol Level\", fontsize=14)\n",
        "plt.xlabel(\"Cholesterol Category\")\n",
        "plt.ylabel(\"Count\")\n",
        "plt.show()"
      ],
      "metadata": {
        "id": "TWx-kR6mvp0h"
      },
      "execution_count": null,
      "outputs": []
    },
    {
      "cell_type": "markdown",
      "source": [
        "\n",
        "#  Create Blood Pressure Categories (based on medical standards)"
      ],
      "metadata": {
        "id": "4zyydi9Fv4vc"
      }
    },
    {
      "cell_type": "code",
      "source": [
        "df[\"bp_category\"] = pd.cut(df[\"trestbps\"], bins=[0, 120, 129, 139, 180, 300],\n",
        "                           labels=[\"Normal (<120)\", \"Elevated (120-129)\", \"Hypertension Stage 1 (130-139)\", \"Hypertension Stage 2 (140-180)\", \"Crisis (>180)\"])\n",
        "\n",
        "plt.figure(figsize=(9,5))\n",
        "sns.countplot(data=df, x=\"bp_category\", hue=\"target\", palette=[\"blue\",\"red\"])\n",
        "plt.title(\"Heart Disease by Blood Pressure Category\", fontsize=14)\n",
        "plt.xlabel(\"Blood Pressure Category\")\n",
        "plt.ylabel(\"Count\")\n",
        "plt.xticks(rotation=30)\n",
        "plt.show()"
      ],
      "metadata": {
        "id": "N5ygca9Dv2q2"
      },
      "execution_count": null,
      "outputs": []
    },
    {
      "cell_type": "markdown",
      "source": [
        "#  Age Group + Cholesterol Level Interaction (Heatmap)"
      ],
      "metadata": {
        "id": "BYCPr1pxxxZ2"
      }
    },
    {
      "cell_type": "code",
      "source": [
        "pivot_table = pd.crosstab(df[\"age_group\"], df[\"chol_level\"], values=df[\"target\"], aggfunc=\"mean\")\n",
        "\n",
        "plt.figure(figsize=(8,6))\n",
        "sns.heatmap(pivot_table, annot=True, cmap=\"Reds\", fmt=\".2f\")\n",
        "plt.title(\"Proportion of Heart Disease by Age Group & Cholesterol Level\", fontsize=14)\n",
        "plt.xlabel(\"Cholesterol Level\")\n",
        "plt.ylabel(\"Age Group\")\n",
        "plt.show()"
      ],
      "metadata": {
        "id": "kp8PiWPJxxGr"
      },
      "execution_count": null,
      "outputs": []
    },
    {
      "cell_type": "markdown",
      "source": [
        "# **7. Statistical Testing**"
      ],
      "metadata": {
        "id": "9Gyh2pq9L-an"
      }
    },
    {
      "cell_type": "markdown",
      "source": [
        "# Chi-Square Test (Categorical vs Target)"
      ],
      "metadata": {
        "id": "_KYeoB4YMUBq"
      }
    },
    {
      "cell_type": "code",
      "source": [
        "\n",
        "\n",
        "# Function for chi-square test\n",
        "def chi_square_test(feature):\n",
        "    table = pd.crosstab(df[feature], df[\"target\"])\n",
        "    chi2, p, dof, ex = chi2_contingency(table)\n",
        "    return chi2, p\n",
        "\n",
        "# Run chi-square tests for categorical features\n",
        "categorical_features = [\"sex\", \"cp\", \"fbs\", \"restecg\", \"exang\", \"slope\", \"ca\", \"thal\"]\n",
        "\n",
        "for feature in categorical_features:\n",
        "    chi2, p = chi_square_test(feature)\n",
        "    print(f\"Feature: {feature} --> Chi2 = {chi2:.2f}, p-value = {p:.4f}\")\n",
        "\n"
      ],
      "metadata": {
        "id": "1IPjsuQXL-Fz"
      },
      "execution_count": null,
      "outputs": []
    },
    {
      "cell_type": "markdown",
      "source": [
        "# **T-Test**"
      ],
      "metadata": {
        "id": "aKEZ5tJ2L9rL"
      }
    },
    {
      "cell_type": "code",
      "source": [
        "from scipy.stats import ttest_ind\n",
        "\n",
        "# Split dataset into two groups\n",
        "group0 = df[df[\"target\"] == 0]   # No heart disease\n",
        "group1 = df[df[\"target\"] == 1]   # Heart disease\n",
        "\n",
        "# Numerical features to test\n",
        "numeric_features = [\"age\", \"trestbps\", \"chol\", \"thalach\", \"oldpeak\"]\n",
        "\n",
        "results = []\n",
        "\n",
        "for feature in numeric_features:\n",
        "    stat, p = ttest_ind(group0[feature], group1[feature], nan_policy=\"omit\")\n",
        "    results.append([feature, stat, p])\n",
        "\n",
        "# Convert results into a DataFrame for better readability\n",
        "ttest_results = pd.DataFrame(results, columns=[\"Feature\", \"T-statistic\", \"P-value\"])\n",
        "ttest_results[\"Significant (p<0.05)\"] = ttest_results[\"P-value\"] < 0.05\n",
        "\n",
        "ttest_results\n"
      ],
      "metadata": {
        "id": "E3uz9dn_Ox0m"
      },
      "execution_count": null,
      "outputs": []
    },
    {
      "cell_type": "markdown",
      "source": [
        "\n",
        "\n",
        "###  Conclusion:\n",
        "Heart disease risk increases notably with **age, abnormal chest pain patterns, high BP, high cholesterol, reduced heart rate capacity, and exercise-induced angina**.  \n",
        "The analysis confirms that **heart disease is multi-factorial**, and these findings provide a strong foundation for building predictive machine learning models (e.g., Logistic Regression, Random Forest) to assess patient risk more accurately.  \n",
        "  \n"
      ],
      "metadata": {
        "id": "lfTQWa-IPlqo"
      }
    },
    {
      "cell_type": "code",
      "source": [],
      "metadata": {
        "id": "Dm7EAZK7O0-Y"
      },
      "execution_count": null,
      "outputs": []
    }
  ]
}